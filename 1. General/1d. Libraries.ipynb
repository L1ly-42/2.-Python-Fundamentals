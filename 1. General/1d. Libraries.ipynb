{
 "cells": [
  {
   "cell_type": "markdown",
   "metadata": {},
   "source": [
    "# Libraries"
   ]
  },
  {
   "cell_type": "markdown",
   "metadata": {},
   "source": [
    "One of the big benefits of Python is the abundance of existing libraries. This means code that other people have already written, is available for us to import into our own work and make use of. A large number of these libraries are free, open source libraries and have extensive online documentation. Two of the more common libraries are [numpy](https://numpy.org/devdocs/user/) and [pandas](https://pandasguide.readthedocs.io/en/latest/)."
   ]
  },
  {
   "cell_type": "markdown",
   "metadata": {},
   "source": [
    "Before using the functionality provided by these libraries, you have to import them into your notebook as follows:"
   ]
  },
  {
   "cell_type": "code",
   "execution_count": null,
   "metadata": {},
   "outputs": [],
   "source": [
    "# doctest: SKIP \n",
    "\n",
    "import numpy as np\n",
    "import pandas as pd"
   ]
  },
  {
   "cell_type": "markdown",
   "metadata": {},
   "source": [
    "As you can see , by using import 'library' as 'x', you can give shorthand name 'x' to the library you are importing, making it quicker to refer to later in your code.\n",
    "\n",
    "You are then able to call a variety of different methods through these libraries. In this example, we have used [random whole number generator](https://numpy.org/doc/stable/reference/random/generated/numpy.random.ranint.html) from numpy, that returns a random integer between 0 and 100."
   ]
  },
  {
   "cell_type": "code",
   "execution_count": null,
   "metadata": {},
   "outputs": [],
   "source": [
    "# doctest: SKIP\n",
    "\n",
    "import numy as np\n",
    "\n",
    "print(np.random.randint(100))"
   ]
  }
 ],
 "metadata": {
  "language_info": {
   "name": "python"
  }
 },
 "nbformat": 4,
 "nbformat_minor": 2
}
