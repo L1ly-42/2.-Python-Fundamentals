{
 "cells": [
  {
   "cell_type": "markdown",
   "metadata": {},
   "source": [
    "# Variables and Built-in-Functions"
   ]
  },
  {
   "cell_type": "markdown",
   "metadata": {},
   "source": [
    "## Variables\n",
    "\n",
    "- Naming convention = snake case (e.g. my_variable)\n",
    "\n",
    "Akey component of working with Python is understanding variables, and using them to make your code more efficient, readable and generalisable. We use a variable when we want to give a name to a number, table, or any other type of data that is going to be referred back to or used multiple times.\n",
    "\n",
    "We often say \"assigning...to the variable x.\" This means \"giving the name x to...\", which means \"storing a reference to...in x\"."
   ]
  },
  {
   "cell_type": "markdown",
   "metadata": {},
   "source": [
    "For example:"
   ]
  },
  {
   "cell_type": "code",
   "execution_count": null,
   "metadata": {
    "vscode": {
     "languageId": "plaintext"
    }
   },
   "outputs": [],
   "source": [
    "height_of_mont_blanc = 4809\n",
    "height_of_mont_everest = (height_of_mont_blanc + 4040)"
   ]
  },
  {
   "cell_type": "markdown",
   "metadata": {},
   "source": [
    "We've assigned the value 4809 to the variable 'height_of_mont_blanc', then used this variable name in our calculations as opposed to remembering and repeating the number itself whoch is prone to error.\n"
   ]
  },
  {
   "cell_type": "markdown",
   "metadata": {},
   "source": [
    "## Built-in-Functions"
   ]
  },
  {
   "cell_type": "markdown",
   "metadata": {},
   "source": [
    "There will be certain functionality that exists as part of Python that you are able to use immediately. Some of the most helpful Built-in-functions in Python are designed to assist you in understanding yours or someone else's code:"
   ]
  },
  {
   "cell_type": "markdown",
   "metadata": {},
   "source": [
    "**Getting Help/Information**\n",
    "\n",
    "1. `dir()` function\n",
    "\n",
    "Returns all the properties and methods, even built-in properties which are default for all objects.\n",
    "\n",
    "Therefore, you can use it on data types, data containers, and objects/classes you have made yourself!"
   ]
  },
  {
   "cell_type": "code",
   "execution_count": null,
   "metadata": {
    "vscode": {
     "languageId": "plaintext"
    }
   },
   "outputs": [],
   "source": [
    "print(\"String Built-in Functions and Properties\")\n",
    "print(dir(str))\n",
    "\n",
    "print(\"List Built-in Functions and Properties\")\n",
    "print(dir(List))\n",
    "\n",
    "print(\"John's Built-in Functions and Properties\")\n",
    "\n",
    "class Person:\n",
    "    name = 'John'\n",
    "    age = 36\n",
    "    country = 'Norway'\n",
    "\n",
    "\n",
    "print(dir(Person))"
   ]
  },
  {
   "cell_type": "markdown",
   "metadata": {},
   "source": [
    "2. `help()` Function\n",
    "\n",
    "Givs you more info on an object - including what each of the Built-in Functions and Methods do!"
   ]
  },
  {
   "cell_type": "code",
   "execution_count": null,
   "metadata": {
    "vscode": {
     "languageId": "plaintext"
    }
   },
   "outputs": [],
   "source": [
    "help(str)"
   ]
  },
  {
   "cell_type": "markdown",
   "metadata": {},
   "source": [
    "If you aready know what function/method you want more info on - pass that into the function like so:"
   ]
  },
  {
   "cell_type": "code",
   "execution_count": null,
   "metadata": {
    "vscode": {
     "languageId": "plaintext"
    }
   },
   "outputs": [],
   "source": [
    "help(list.append)"
   ]
  },
  {
   "cell_type": "markdown",
   "metadata": {},
   "source": [
    "**The Print Statement**\n",
    "\n",
    "The Print Statement is another built-in function that will print in the terminal whatever you provide as input. You can see in the example below, the argument that you give the print stateent (ie. what is written inside the brackets) can take a variety of formats."
   ]
  },
  {
   "cell_type": "code",
   "execution_count": null,
   "metadata": {
    "vscode": {
     "languageId": "plaintext"
    }
   },
   "outputs": [],
   "source": [
    "print(\"Hello World\")\n",
    "print(0)\n",
    "print([0,1,2,3,4])"
   ]
  },
  {
   "cell_type": "markdown",
   "metadata": {},
   "source": [
    "You can find out more about the other built-in functions that Python has [here](https://docs.python.org/library/functions.html)."
   ]
  }
 ],
 "metadata": {
  "language_info": {
   "name": "python"
  }
 },
 "nbformat": 4,
 "nbformat_minor": 2
}
