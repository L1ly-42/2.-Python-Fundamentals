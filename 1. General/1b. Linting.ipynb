{
 "cells": [
  {
   "cell_type": "markdown",
   "metadata": {},
   "source": [
    "# Linting\n",
    "**aka analysing code for potential errors (mainly syntactical ones), usually via a specific tool/program**"
   ]
  },
  {
   "cell_type": "markdown",
   "metadata": {},
   "source": [
    "First way this can work in VS Code is via the red underline, which if you hover over it will give you pointers as to what the problem could be"
   ]
  },
  {
   "cell_type": "code",
   "execution_count": null,
   "metadata": {
    "vscode": {
     "languageId": "plaintext"
    }
   },
   "outputs": [],
   "source": [
    "print \"Hello world\""
   ]
  },
  {
   "cell_type": "markdown",
   "metadata": {},
   "source": [
    "If you have bigger projects with multiple files, the **problem** panel towards the bottom of the screen will be more useful as it will analyse ALL of the files for errors!"
   ]
  },
  {
   "cell_type": "markdown",
   "metadata": {},
   "source": [
    "Shortcut to open this:\n",
    "\n",
    "- Windows: Shift + Ctrl + P\n",
    "- MAC: Shift + Cmd + P\n",
    "\n",
    "You can select wwhatever linter you want via this, with \"pylint\" being the one recommended."
   ]
  }
 ],
 "metadata": {
  "language_info": {
   "name": "python"
  }
 },
 "nbformat": 4,
 "nbformat_minor": 2
}
