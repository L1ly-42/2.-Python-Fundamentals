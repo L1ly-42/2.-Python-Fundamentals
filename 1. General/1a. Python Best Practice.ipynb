{
 "cells": [
  {
   "cell_type": "markdown",
   "metadata": {},
   "source": [
    "# Python Best Practice"
   ]
  },
  {
   "cell_type": "markdown",
   "metadata": {},
   "source": [
    "## Formatting\n",
    "\n",
    "Best resource for formatting Python Code is https://peps.python.org/pep-0008/ which offers a Style Guide \n",
    "\n",
    "However, in VS Code, there is a tool that will automatically format your code to adhere to this!"
   ]
  },
  {
   "cell_type": "markdown",
   "metadata": {},
   "source": [
    "Steps for Installing this Tool:\n",
    "\n",
    "1. Install the Auto Pep8 extension\n",
    "2. Open Command Palette\n",
    "3. Click \"Format Document\" and it will format your code for you!"
   ]
  },
  {
   "cell_type": "markdown",
   "metadata": {},
   "source": [
    "Alternatively, if you want to have your file automatically formatted as soon as you save changes, do this:\n",
    "\n",
    "1. File > Preferences > Settings\n",
    "2. Search \"formatOnSave\" and click \"Editor: Format on Save\""
   ]
  },
  {
   "cell_type": "markdown",
   "metadata": {},
   "source": [
    "## Shortcuts"
   ]
  },
  {
   "cell_type": "markdown",
   "metadata": {},
   "source": [
    "### Ternary Operators \n",
    "\n",
    "This is a cleaner way of doing If statements for things that are not that complicated e.g. assigning a value to a variable based on a certain coondition."
   ]
  },
  {
   "cell_type": "code",
   "execution_count": null,
   "metadata": {},
   "outputs": [],
   "source": [
    "age = 10\n",
    "\n",
    "#Long Version\n",
    "\n",
    "if age >= 18:\n",
    "    print('Eligible')\n",
    "else:\n",
    "    print('Not Eligible')\n",
    "\n",
    "#Ternary Operator Version\n",
    "\n",
    "message = 'Eligible' if age >= 18 else 'Not Eligible'\n",
    "\n",
    "print(f'Message= {message}')"
   ]
  }
 ],
 "metadata": {
  "language_info": {
   "name": "python"
  }
 },
 "nbformat": 4,
 "nbformat_minor": 2
}
